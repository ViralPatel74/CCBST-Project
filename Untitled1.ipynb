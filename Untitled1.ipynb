{
  "nbformat": 4,
  "nbformat_minor": 0,
  "metadata": {
    "colab": {
      "provenance": []
    },
    "kernelspec": {
      "name": "python3",
      "display_name": "Python 3"
    },
    "language_info": {
      "name": "python"
    }
  },
  "cells": [
    {
      "cell_type": "code",
      "execution_count": null,
      "metadata": {
        "colab": {
          "base_uri": "https://localhost:8080/"
        },
        "id": "_SCVbQZuwDGD",
        "outputId": "041218bd-62d6-4f5a-b673-1899170db096"
      },
      "outputs": [
        {
          "output_type": "stream",
          "name": "stdout",
          "text": [
            "/content\n"
          ]
        }
      ],
      "source": [
        "!pwd"
      ]
    },
    {
      "cell_type": "code",
      "source": [
        "!cd /content/sample_data/ && ls"
      ],
      "metadata": {
        "colab": {
          "base_uri": "https://localhost:8080/"
        },
        "id": "T6rm9qncwDuQ",
        "outputId": "ebf6df38-d4f4-426e-ad8c-5c40e501bce0"
      },
      "execution_count": null,
      "outputs": [
        {
          "output_type": "stream",
          "name": "stdout",
          "text": [
            "anscombe.json\t\t     california_housing_train.csv  mnist_train_small.csv\n",
            "california_housing_test.csv  mnist_test.csv\t\t   README.md\n"
          ]
        }
      ]
    },
    {
      "cell_type": "code",
      "source": [
        "!touch /content/sample_data/content1.txt"
      ],
      "metadata": {
        "id": "lDGOFuoOwDzN"
      },
      "execution_count": null,
      "outputs": []
    },
    {
      "cell_type": "code",
      "source": [
        "!touch /content/sample_data/content2.txt"
      ],
      "metadata": {
        "id": "yx62ERqswD5L"
      },
      "execution_count": null,
      "outputs": []
    },
    {
      "cell_type": "code",
      "source": [
        "!touch /content/sample_data/content3.txt"
      ],
      "metadata": {
        "id": "534fnbv9wENr"
      },
      "execution_count": null,
      "outputs": []
    },
    {
      "cell_type": "code",
      "source": [
        "!mkdir /content/linux_exercise"
      ],
      "metadata": {
        "id": "Gr-wqouOwESd"
      },
      "execution_count": null,
      "outputs": []
    },
    {
      "cell_type": "code",
      "source": [
        "!cp -rf /content/sample_data/ /content/linux_exercise/"
      ],
      "metadata": {
        "id": "i-3IoadvwEXV"
      },
      "execution_count": null,
      "outputs": []
    },
    {
      "cell_type": "code",
      "source": [
        "!touch /content/sample_data/all.txt"
      ],
      "metadata": {
        "id": "BFT5OwfHiBBv"
      },
      "execution_count": 1,
      "outputs": []
    },
    {
      "cell_type": "code",
      "source": [
        "!grep \".txt\" /content/sample_data/all.txt"
      ],
      "metadata": {
        "id": "znBQRUWgwEaS"
      },
      "execution_count": 2,
      "outputs": []
    },
    {
      "cell_type": "code",
      "source": [
        "with open(\"/content/sample_data/all.txt\", mode= 'a') as nf:\n",
        "  nf.write(\"Hello there hi are you?\\n\")\n",
        "  nf.write(\"Hello, i am good thank you\\n\")\n",
        "  nf.write(\"How about you?\\n\")"
      ],
      "metadata": {
        "id": "QgdfYDUqzPKf"
      },
      "execution_count": 6,
      "outputs": []
    },
    {
      "cell_type": "code",
      "source": [
        "!wc /content/sample_data/all.txt"
      ],
      "metadata": {
        "id": "oFgjuUfFzPP7",
        "colab": {
          "base_uri": "https://localhost:8080/"
        },
        "outputId": "310b3db1-6ab2-4ea3-965f-c650482f61ee"
      },
      "execution_count": 7,
      "outputs": [
        {
          "output_type": "stream",
          "name": "stdout",
          "text": [
            " 2 14 65 /content/sample_data/all.txt\n"
          ]
        }
      ]
    },
    {
      "cell_type": "code",
      "source": [
        "!grep \"Hello\" /content/sample_data/all.txt"
      ],
      "metadata": {
        "id": "ADzbXJQCzPU-",
        "colab": {
          "base_uri": "https://localhost:8080/"
        },
        "outputId": "938ee14d-f38f-4208-c9a2-c1c5549c9bee"
      },
      "execution_count": 8,
      "outputs": [
        {
          "output_type": "stream",
          "name": "stdout",
          "text": [
            "Hello there hi are you?\n",
            "Hello, i am good thank you\n"
          ]
        }
      ]
    },
    {
      "cell_type": "code",
      "source": [
        "!touch /content/sample_data/file2.txt\n",
        "!mkdir /content/folder2"
      ],
      "metadata": {
        "id": "nB9HGjdRjZw6"
      },
      "execution_count": 9,
      "outputs": []
    },
    {
      "cell_type": "code",
      "source": [
        "mv /content/sample_data/file2.txt /content/folder2"
      ],
      "metadata": {
        "id": "Sj3DrErXjZs9"
      },
      "execution_count": 10,
      "outputs": []
    },
    {
      "cell_type": "code",
      "source": [
        "!touch /content/folder2/file1.txt"
      ],
      "metadata": {
        "id": "OLyWA3cXjZo4"
      },
      "execution_count": 11,
      "outputs": []
    },
    {
      "cell_type": "code",
      "source": [
        "!ln -s /content/folder2/file1.txt /content/folder2/link_to_file1.txt\n"
      ],
      "metadata": {
        "id": "EwhGmyyajZi9"
      },
      "execution_count": 15,
      "outputs": []
    },
    {
      "cell_type": "code",
      "source": [
        "!ls -l /content/folder2\n"
      ],
      "metadata": {
        "colab": {
          "base_uri": "https://localhost:8080/"
        },
        "id": "DsgGUApFjZQN",
        "outputId": "77ebbd66-5e59-49fd-d573-d64aba787366"
      },
      "execution_count": 16,
      "outputs": [
        {
          "output_type": "stream",
          "name": "stdout",
          "text": [
            "total 0\n",
            "-rw-r--r-- 1 root root  0 Sep 19 13:57 file1.txt\n",
            "-rw-r--r-- 1 root root  0 Sep 19 13:53 file2.txt\n",
            "lrwxrwxrwx 1 root root 26 Sep 19 14:09 link_to_file1.txt -> /content/folder2/file1.txt\n"
          ]
        }
      ]
    },
    {
      "cell_type": "code",
      "source": [
        "!find /content -type f -mmin -1\n"
      ],
      "metadata": {
        "colab": {
          "base_uri": "https://localhost:8080/"
        },
        "id": "_1I1kl95np1a",
        "outputId": "9df348ef-ad23-486d-dc8e-b47c4c8613d2"
      },
      "execution_count": 17,
      "outputs": [
        {
          "output_type": "stream",
          "name": "stdout",
          "text": [
            "/content/.config/gce\n"
          ]
        }
      ]
    },
    {
      "cell_type": "code",
      "source": [
        "rm -rf /content/folder2/"
      ],
      "metadata": {
        "id": "OzbGvJySnppE"
      },
      "execution_count": 18,
      "outputs": []
    }
  ]
}